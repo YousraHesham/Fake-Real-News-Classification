{
 "cells": [
  {
   "cell_type": "markdown",
   "metadata": {
    "id": "eP3cw35ftA5S"
   },
   "source": [
    "# Real World Network?"
   ]
  },
  {
   "cell_type": "markdown",
   "metadata": {},
   "source": [
    "In this notebook we explore the 115 House retweets dataset which is a political network where nodes represent 115th House congress members and edges represent retweets among them, i.e., edge (u,v) means u retweeted\n",
    "v at least once. We want to answer the question: Is this network represent a real world social network? or in other words does the characteristics of a real world network applies to this network as well?"
   ]
  },
  {
   "cell_type": "code",
   "execution_count": 1,
   "metadata": {
    "id": "61M56AJQtBbc"
   },
   "outputs": [],
   "source": [
    "import pandas as pd\n",
    "import networkx as nx\n",
    "import datetime as dt\n",
    "import io\n",
    "import matplotlib.pyplot as plt\n",
    "import numpy as np"
   ]
  },
  {
   "cell_type": "markdown",
   "metadata": {
    "id": "ngltmaU8tJjh"
   },
   "source": [
    "## Load Grahp"
   ]
  },
  {
   "cell_type": "markdown",
   "metadata": {},
   "source": [
    "The graph is of course directed (edge (u,v) mean user u retweeted user v), but We are doing it as undirected for simplicity"
   ]
  },
  {
   "cell_type": "code",
   "execution_count": 2,
   "metadata": {
    "colab": {
     "base_uri": "https://localhost:8080/",
     "height": 73,
     "resources": {
      "http://localhost:8080/nbextensions/google.colab/files.js": {
       "data": "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",
       "headers": [
        [
         "content-type",
         "application/javascript"
        ]
       ],
       "ok": true,
       "status": 200,
       "status_text": ""
      }
     }
    },
    "id": "eChQpHMyvgX5",
    "outputId": "ad7deba5-ff08-49bd-e35b-4407c6b12d09"
   },
   "outputs": [
    {
     "data": {
      "text/html": [
       "\n",
       "     <input type=\"file\" id=\"files-5e83f057-9c2f-4365-8aa5-16a88005a253\" name=\"files[]\" multiple disabled\n",
       "        style=\"border:none\" />\n",
       "     <output id=\"result-5e83f057-9c2f-4365-8aa5-16a88005a253\">\n",
       "      Upload widget is only available when the cell has been executed in the\n",
       "      current browser session. Please rerun this cell to enable.\n",
       "      </output>\n",
       "      <script src=\"/nbextensions/google.colab/files.js\"></script> "
      ],
      "text/plain": [
       "<IPython.core.display.HTML object>"
      ]
     },
     "metadata": {
      "tags": []
     },
     "output_type": "display_data"
    },
    {
     "name": "stdout",
     "output_type": "stream",
     "text": [
      "Saving 115th House retweets.gexf to 115th House retweets.gexf\n"
     ]
    }
   ],
   "source": [
    "from google.colab import files\n",
    "uploaded = files.upload()"
   ]
  },
  {
   "cell_type": "code",
   "execution_count": 3,
   "metadata": {
    "colab": {
     "base_uri": "https://localhost:8080/",
     "height": 50
    },
    "id": "8LNmsoKmvlfu",
    "outputId": "2d3558de-de8f-4516-c400-fcf65164a587"
   },
   "outputs": [
    {
     "name": "stdout",
     "output_type": "stream",
     "text": [
      "Number of Nodes:  432\n",
      "Number of Edges:  10496\n"
     ]
    }
   ],
   "source": [
    "G= nx.read_gexf(io.BytesIO(uploaded['115th House retweets.gexf']), node_type=None, relabel=False, version='1.2draft')\n",
    "print('Number of Nodes: ', G.number_of_nodes())\n",
    "print('Number of Edges: ',G.number_of_edges())"
   ]
  },
  {
   "cell_type": "markdown",
   "metadata": {
    "id": "mFJojwYC2m6h"
   },
   "source": [
    "## Convert graph to undirected graph"
   ]
  },
  {
   "cell_type": "code",
   "execution_count": 4,
   "metadata": {
    "colab": {
     "base_uri": "https://localhost:8080/",
     "height": 50
    },
    "id": "63czKQOc3kOl",
    "outputId": "a1b28213-be07-476e-92f3-991ad372a70b"
   },
   "outputs": [
    {
     "name": "stdout",
     "output_type": "stream",
     "text": [
      "Number of Nodes:  432\n",
      "Number of Edges:  8459\n"
     ]
    }
   ],
   "source": [
    "G_undirected= G.to_undirected(reciprocal=False, as_view=False)\n",
    "print('Number of Nodes: ', G_undirected.number_of_nodes())\n",
    "print('Number of Edges: ',G_undirected.number_of_edges())"
   ]
  },
  {
   "cell_type": "markdown",
   "metadata": {
    "id": "LPlx-qfL2dkq"
   },
   "source": [
    "## Get the largest connected component G0"
   ]
  },
  {
   "cell_type": "code",
   "execution_count": 17,
   "metadata": {
    "colab": {
     "base_uri": "https://localhost:8080/",
     "height": 50
    },
    "id": "Y4tJAIPbuxLF",
    "outputId": "e1ffae45-e6e3-444a-a61c-7802c847b482"
   },
   "outputs": [
    {
     "name": "stdout",
     "output_type": "stream",
     "text": [
      "Number of Nodes:  431\n",
      "Number of Edges:  8458\n"
     ]
    }
   ],
   "source": [
    "connected_components= list(nx.connected_components(G_undirected))\n",
    "max_length= 0\n",
    "for i in range (len(connected_components)):\n",
    "    if (max_length < len(connected_components[i])):\n",
    "    max_length= len(connected_components[i])\n",
    "    largest_component= connected_components[i]\n",
    "\n",
    "G0= G_undirected.subgraph(list(largest_component))\n",
    "print('Number of Nodes: ', G0.number_of_nodes())\n",
    "print('Number of Edges: ',G0.number_of_edges())"
   ]
  },
  {
   "cell_type": "markdown",
   "metadata": {
    "id": "fbGK9lBxtzo_"
   },
   "source": [
    "## 1. Check The power law distribution \n",
    "## The G0 Graph does meet the power law distribution *constrain* italicized text"
   ]
  },
  {
   "cell_type": "code",
   "execution_count": 12,
   "metadata": {
    "colab": {
     "base_uri": "https://localhost:8080/",
     "height": 296
    },
    "id": "Imq_Liq8GKSK",
    "outputId": "4c1a51dd-4970-4624-ce7c-a1d19f62fb64"
   },
   "outputs": [
    {
     "data": {
      "text/plain": [
       "Text(0.5, 0, 'Degree')"
      ]
     },
     "execution_count": 12,
     "metadata": {
      "tags": []
     },
     "output_type": "execute_result"
    },
    {
     "data": {
      "image/png": "[encoded data removed]",
      "text/plain": [
       "<Figure size 432x288 with 1 Axes>"
      ]
     },
     "metadata": {
      "needs_background": "light",
      "tags": []
     },
     "output_type": "display_data"
    }
   ],
   "source": [
    "%matplotlib inline\n",
    "#np.random.seed(42)\n",
    "x = []\n",
    "for v in G0:\n",
    "    x.append(G0.degree(v))\n",
    "    #print(f\"{v:4} {G.degree(v):6}\")\n",
    "plt.hist(x, density=True, bins=17)  # `density=False` would make counts\n",
    "plt.ylabel('Frequency of degree')\n",
    "plt.xlabel('Degree')"
   ]
  },
  {
   "cell_type": "code",
   "execution_count": 18,
   "metadata": {
    "colab": {
     "base_uri": "https://localhost:8080/",
     "height": 313
    },
    "id": "iJtZk7epKUXN",
    "outputId": "6f39d1f7-876c-45ca-dc3f-b7c72dd332fa"
   },
   "outputs": [
    {
     "name": "stdout",
     "output_type": "stream",
     "text": [
      "-0.5954939411948519 1.4194997116509498\n"
     ]
    },
    {
     "data": {
      "text/plain": [
       "Text(0.5, 0, 'log(Degree)')"
      ]
     },
     "execution_count": 18,
     "metadata": {
      "tags": []
     },
     "output_type": "execute_result"
    },
    {
     "data": {
      "image/png": "[encoded data removed]",
      "text/plain": [
       "<Figure size 432x288 with 1 Axes>"
      ]
     },
     "metadata": {
      "needs_background": "light",
      "tags": []
     },
     "output_type": "display_data"
    }
   ],
   "source": [
    "import math\n",
    "k = []\n",
    "Pk = []\n",
    "graph=G0\n",
    "logk = []\n",
    "logPk = []\n",
    "\n",
    "\n",
    "for node in list(graph.nodes()):\n",
    "    degree = graph.degree(nbunch=node)\n",
    "    try:\n",
    "        pos = k.index(degree)\n",
    "    except ValueError as e:\n",
    "        k.append(degree)\n",
    "        Pk.append(1)\n",
    "    else:\n",
    "        Pk[pos] += 1\n",
    "\n",
    "# get a double log representation\n",
    "for i in range(len(k)):\n",
    "    logk.append(math.log10(k[i]))\n",
    "    logPk.append(math.log10(Pk[i]))\n",
    "\n",
    "order = np.argsort(logk)\n",
    "logk_array = np.array(logk)[order]\n",
    "logPk_array = np.array(logPk)[order]\n",
    "plt.plot(logk_array, logPk_array, \".\")\n",
    "m, c = np.polyfit(logk_array, logPk_array, 1)\n",
    "print(m,c)\n",
    "plt.plot(logk_array, -2*logk_array + 2, \"-\")\n",
    "plt.ylabel('log(Counts of degree)')\n",
    "plt.xlabel('log(Degree)')"
   ]
  },
  {
   "cell_type": "markdown",
   "metadata": {
    "id": "GdIB7rYmyUlG"
   },
   "source": [
    "From the above analysis, the graph G0 is subjected to the power law distribution which means that very small portion of the social network has high connections (friends, retweets, reach, followers) and only the rest is smaller according to an exponantial distribution."
   ]
  },
  {
   "cell_type": "markdown",
   "metadata": {
    "id": "rw2tnWJWpfZ2"
   },
   "source": [
    "## 2. The High Clustering Coefficient Constrain"
   ]
  },
  {
   "cell_type": "code",
   "execution_count": 20,
   "metadata": {
    "colab": {
     "base_uri": "https://localhost:8080/",
     "height": 34
    },
    "id": "zOaLe6ooRiP6",
    "outputId": "78cb0357-d7a5-4922-d344-1bc1dd16a28e"
   },
   "outputs": [
    {
     "data": {
      "text/plain": [
       "0.4270389963304332"
      ]
     },
     "execution_count": 20,
     "metadata": {
      "tags": []
     },
     "output_type": "execute_result"
    }
   ],
   "source": [
    "c = nx.average_clustering(G0) \n",
    "c"
   ]
  },
  {
   "cell_type": "markdown",
   "metadata": {},
   "source": [
    "The G0 graph meet this constrain"
   ]
  },
  {
   "cell_type": "markdown",
   "metadata": {
    "id": "_vB_zuz8plmN"
   },
   "source": [
    "## 3. Small Average Path length\n"
   ]
  },
  {
   "cell_type": "code",
   "execution_count": 21,
   "metadata": {
    "colab": {
     "base_uri": "https://localhost:8080/",
     "height": 34
    },
    "id": "pL7WBVP1nuBJ",
    "outputId": "473f8843-826c-486d-e4cf-6af3f927e632"
   },
   "outputs": [
    {
     "data": {
      "text/plain": [
       "2.213511034371122"
      ]
     },
     "execution_count": 21,
     "metadata": {
      "tags": []
     },
     "output_type": "execute_result"
    }
   ],
   "source": [
    "avg_path= nx.average_shortest_path_length(G0)\n",
    "avg_path"
   ]
  },
  {
   "cell_type": "markdown",
   "metadata": {},
   "source": [
    "The G0 graph meet this constrin with avg path length small value of 2.21"
   ]
  },
  {
   "cell_type": "markdown",
   "metadata": {
    "id": "5Merv38L2zge"
   },
   "source": [
    "## Then: The graph G. satisfy 3 properties of the real world social network."
   ]
  },
  {
   "cell_type": "markdown",
   "metadata": {
    "id": "j3bA3eMH0WXB"
   },
   "source": [
    "## 4. Find the top-10 most central nodes in the G0 network according to:\n",
    "\n",
    "a. degree centrality\n",
    "\n",
    "b. eigenvector centrality\n",
    "\n",
    "c. pagerank\n",
    "\n",
    "d. betweenness centrality\n",
    "\n",
    "e. closeness centrality\n"
   ]
  },
  {
   "cell_type": "markdown",
   "metadata": {
    "id": "0xsMKyMg0u1Y"
   },
   "source": [
    "### a. Degree Centrality"
   ]
  },
  {
   "cell_type": "code",
   "execution_count": 23,
   "metadata": {
    "colab": {
     "base_uri": "https://localhost:8080/",
     "height": 54
    },
    "id": "XeWvEUIc8nen",
    "outputId": "7eccb026-e680-4ea8-d2ca-c41093fa6ea9"
   },
   "outputs": [
    {
     "name": "stdout",
     "output_type": "stream",
     "text": [
      "Top 10 Nodes are:  [('18916432', 0.46744186046511627), ('15764644', 0.40232558139534885), ('1209417007', 0.39069767441860465), ('22012091', 0.38372093023255816), ('2962868158', 0.3209302325581395), ('111635980', 0.3116279069767442), ('24195214', 0.3023255813953488), ('242426145', 0.3023255813953488), ('1077121945', 0.3023255813953488)]\n"
     ]
    }
   ],
   "source": [
    "degree_centrality= nx.degree_centrality(G0)\n",
    "degree_centrality_list= list(degree_centrality.items())\n",
    "degree_centrality_sorted= sorted(degree_centrality_list, key=lambda tup: tup[1], reverse= True)\n",
    "degree_centrality_sorted\n",
    "max_elements = degree_centrality_sorted[0:10]\n",
    "print('Top 10 Central Nodes (according to this measure) are: ', max_elements)"
   ]
  },
  {
   "cell_type": "markdown",
   "metadata": {
    "id": "9tUCOE4Y-kzw"
   },
   "source": [
    "### b. Eginvalue Centrality"
   ]
  },
  {
   "cell_type": "code",
   "execution_count": 24,
   "metadata": {
    "colab": {
     "base_uri": "https://localhost:8080/",
     "height": 54
    },
    "id": "JPn_FN_IFeUT",
    "outputId": "b5ed73d7-b8ba-461c-f731-895c089c6110"
   },
   "outputs": [
    {
     "name": "stdout",
     "output_type": "stream",
     "text": [
      "Top 10 Nodes are:  [('22012091', 0.18337780708977203), ('15764644', 0.18032157717456576), ('29501253', 0.1510807055229586), ('137794015', 0.14792657062995032), ('815733290955112448', 0.1452314370586416), ('40302336', 0.14225698245811277), ('111635980', 0.1342110560647157), ('384913290', 0.1265090792391857), ('1206227149', 0.12551340360413668)]\n"
     ]
    }
   ],
   "source": [
    "eigenvector_centrality= nx.eigenvector_centrality(G0,  tol=1e-06)\n",
    "eigenvector_centrality_list= list(eigenvector_centrality.items())\n",
    "eigenvector_centrality_sorted= sorted(eigenvector_centrality_list, key=lambda tup: tup[1], reverse= True)\n",
    "max_elements = eigenvector_centrality_sorted[0:10]\n",
    "print('Top 10 Central Nodes (according to this measure) are: ', max_elements)"
   ]
  },
  {
   "cell_type": "markdown",
   "metadata": {
    "id": "e2scyMiuKyXK"
   },
   "source": [
    "### c. Page Rank Centrality"
   ]
  },
  {
   "cell_type": "code",
   "execution_count": 25,
   "metadata": {
    "colab": {
     "base_uri": "https://localhost:8080/",
     "height": 54
    },
    "id": "OGXifVoPMhrd",
    "outputId": "1ea92ffd-9897-495f-96b0-baab080d885d"
   },
   "outputs": [
    {
     "name": "stdout",
     "output_type": "stream",
     "text": [
      "Top 10 Nodes are:  [('18916432', 0.016687077252074495), ('1209417007', 0.01339533968202723), ('19739126', 0.010394397111901262), ('17976923', 0.010346266266186174), ('235312723', 0.008023105914688073), ('15764644', 0.007870325263258687), ('22012091', 0.007389758933240166), ('2962868158', 0.006351644073853909), ('242426145', 0.006012976256123177)]\n"
     ]
    }
   ],
   "source": [
    "pagerank_centrality= nx.pagerank(G0,alpha=0.85)\n",
    "pagerank_centrality_list= list(pagerank_centrality.items())\n",
    "pagerank_centrality_sorted= sorted(pagerank_centrality_list, key=lambda tup: tup[1], reverse= True)\n",
    "max_elements = pagerank_centrality_sorted[0:10]\n",
    "print('Top 10 Central Nodes (according to this measure) are: ', max_elements)"
   ]
  },
  {
   "cell_type": "markdown",
   "metadata": {
    "id": "82KBpNfUHWTJ"
   },
   "source": [
    "## d. Betweenness Centrality"
   ]
  },
  {
   "cell_type": "code",
   "execution_count": 23,
   "metadata": {
    "colab": {
     "base_uri": "https://localhost:8080/",
     "height": 168
    },
    "id": "_YCaQxhYHZNB",
    "outputId": "60f97b51-48d2-402d-9886-2e74f87d83d8"
   },
   "outputs": [
    {
     "data": {
      "text/plain": [
       "[('18916432', 0.12273484278137405),\n",
       " ('1209417007', 0.08843721368425678),\n",
       " ('17976923', 0.03704117830785366),\n",
       " ('19739126', 0.03394057911431364),\n",
       " ('15764644', 0.026120568153645576),\n",
       " ('14275291', 0.02449774667555187),\n",
       " ('235312723', 0.020301561604364807),\n",
       " ('22012091', 0.019495914064184754),\n",
       " ('242426145', 0.01477897207354136)]"
      ]
     },
     "execution_count": 23,
     "metadata": {
      "tags": []
     },
     "output_type": "execute_result"
    }
   ],
   "source": [
    "betweenness_centrality= nx.betweenness_centrality(G0, k=None, normalized=True)\n",
    "betweenness_centrality_list= list(betweenness_centrality.items())\n",
    "betweenness_centrality_sorted= sorted(betweenness_centrality_list, key=lambda tup: tup[1], reverse= True)\n",
    "max_elements = betweenness_centrality_sorted[0:10]\n",
    "print('Top 10 Central Nodes (according to this measure) are: ', max_elements)"
   ]
  },
  {
   "cell_type": "markdown",
   "metadata": {
    "id": "9K84niCMKHZw"
   },
   "source": [
    "## closeness_centrality"
   ]
  },
  {
   "cell_type": "code",
   "execution_count": 24,
   "metadata": {
    "colab": {
     "base_uri": "https://localhost:8080/",
     "height": 168
    },
    "id": "TVwz5PC2IbvW",
    "outputId": "589bc6f3-fd16-47f1-f450-b992f3a39135"
   },
   "outputs": [
    {
     "data": {
      "text/plain": [
       "[('18916432', 0.638396309800022),\n",
       " ('1209417007', 0.6137372248721243),\n",
       " ('15764644', 0.5950101528233216),\n",
       " ('22012091', 0.5868704790500887),\n",
       " ('19739126', 0.5720030935808198),\n",
       " ('137794015', 0.5659661216169062),\n",
       " ('17976923', 0.5600552482840926),\n",
       " ('2916086925', 0.5423543870867444),\n",
       " ('2962868158', 0.5396255599819055)]"
      ]
     },
     "execution_count": 24,
     "metadata": {
      "tags": []
     },
     "output_type": "execute_result"
    }
   ],
   "source": [
    "closeness_centrality= nx.closeness_centrality(G0)\n",
    "closeness_centrality_list= list(closeness_centrality.items())\n",
    "closeness_centrality_sorted= sorted(closeness_centrality_list, key=lambda tup: tup[1], reverse= True)\n",
    "max_elements = closeness_centrality_sorted[0:10]\n",
    "print('Top 10 Central Nodes (according to this measure) are: ', max_elements)"
   ]
  },
  {
   "cell_type": "markdown",
   "metadata": {
    "id": "r-4M2k5TMq5A"
   },
   "source": [
    "# The End"
   ]
  }
 ],
 "metadata": {
  "colab": {
   "collapsed_sections": [],
   "name": "Untitled0.ipynb",
   "provenance": []
  },
  "kernelspec": {
   "display_name": "Python 3",
   "language": "python",
   "name": "python3"
  },
  "language_info": {
   "codemirror_mode": {
    "name": "ipython",
    "version": 3
   },
   "file_extension": ".py",
   "mimetype": "text/x-python",
   "name": "python",
   "nbconvert_exporter": "python",
   "pygments_lexer": "ipython3",
   "version": "3.8.6"
  }
 },
 "nbformat": 4,
 "nbformat_minor": 1
}
